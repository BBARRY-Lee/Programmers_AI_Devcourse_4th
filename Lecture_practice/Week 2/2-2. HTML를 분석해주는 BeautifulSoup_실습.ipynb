{
 "cells": [
  {
   "cell_type": "markdown",
   "id": "ae075a19-8a97-4e0e-87c0-f8b0d9820faa",
   "metadata": {},
   "source": [
    "## 2-2. 파이썬의 HTML Parser, BeautifulSoup\n",
    "HTML 분석기인 BeautifulSoup에 대해서 알아봅시다.\n",
    "\n",
    "## BeautifulSoup 라이브러리\n",
    "지난 실습들에서 저희는 requests 모듈을 이용해서 HTTP 요청을 보내고, 이 응답을 받아 여러 요소를 살펴보았습니다.\n",
    "그런데, res.body를 해보았을 때 문제점이 있었습니다. 바로 해당 내용이 아주 긴 텍스트로 와서 분석하기 힘들다는 것이 바로 그것인데요,\n",
    "\n",
    "* 저희가 원하는 요소만을 가져올 수 있으면 얼마나 좋을까요? *\n",
    "이를 가능하도록 HTML 코드를 분석해주는, HTML Parser를 사용할 수 있습니다. 그 중에서 가장 유명한 것이 바로 오늘 저희가 사용할 BeautifulSoup4입니다.\n",
    "\n",
    "우선, 이를 사용하기 위해서 pip를 사용해 다운로드를 받아봅시다.\n",
    "\n",
    "> Tip: %를 이용해서 노트북(.ipynb) 환경에서 터미널 코드를 실행할 수 있습니다."
   ]
  },
  {
   "cell_type": "code",
   "execution_count": 1,
   "id": "d08d2ed1-60ae-4193-a103-481141410c15",
   "metadata": {},
   "outputs": [
    {
     "name": "stdout",
     "output_type": "stream",
     "text": [
      "Collecting bs4\n",
      "  Downloading bs4-0.0.1.tar.gz (1.1 kB)\n",
      "  Preparing metadata (setup.py) ... \u001b[?25ldone\n",
      "\u001b[?25hRequirement already satisfied: beautifulsoup4 in /usr/local/lib/python3.10/site-packages (from bs4) (4.11.1)\n",
      "Requirement already satisfied: soupsieve>1.2 in /usr/local/lib/python3.10/site-packages (from beautifulsoup4->bs4) (2.3.2.post1)\n",
      "Building wheels for collected packages: bs4\n",
      "  Building wheel for bs4 (setup.py) ... \u001b[?25ldone\n",
      "\u001b[?25h  Created wheel for bs4: filename=bs4-0.0.1-py3-none-any.whl size=1257 sha256=07fd3d0cf70b2774ad9843152fd48779466dac2c9adee69071ddbaf65cde21b1\n",
      "  Stored in directory: /Users/jiyunlee/Library/Caches/pip/wheels/25/42/45/b773edc52acb16cd2db4cf1a0b47117e2f69bb4eb300ed0e70\n",
      "Successfully built bs4\n",
      "Installing collected packages: bs4\n",
      "Successfully installed bs4-0.0.1\n",
      "Note: you may need to restart the kernel to use updated packages.\n"
     ]
    }
   ],
   "source": [
    "%pip install bs4"
   ]
  },
  {
   "cell_type": "code",
   "execution_count": 5,
   "id": "68c414a4-ae32-4a12-8d4b-cb794abc973c",
   "metadata": {},
   "outputs": [
    {
     "name": "stdout",
     "output_type": "stream",
     "text": [
      "Requirement already satisfied: beautifulsoup4 in /usr/local/lib/python3.10/site-packages (4.11.1)\n",
      "Requirement already satisfied: soupsieve>1.2 in /usr/local/lib/python3.10/site-packages (from beautifulsoup4) (2.3.2.post1)\n",
      "Note: you may need to restart the kernel to use updated packages.\n"
     ]
    }
   ],
   "source": [
    "%pip install beautifulsoup4"
   ]
  },
  {
   "cell_type": "markdown",
   "id": "e759259e-8f78-4882-a696-e5414f8012dd",
   "metadata": {},
   "source": [
    "설치를 다 진행했다면, 이제 BeautifulSoup4 모듈을 사용할 준비가 되었습니다.\n",
    "\n",
    "이제 이를 바탕으로 HTTP 코드를 분석해 원하는 정보만을 얻으러 가볼까요?\n",
    "## BeautifulSoup 객체 만들기\n"
   ]
  },
  {
   "cell_type": "code",
   "execution_count": 9,
   "id": "7a0eb1a2-21ef-43ad-aef7-e60480bfe109",
   "metadata": {},
   "outputs": [
    {
     "data": {
      "text/plain": [
       "'<!doctype html>\\n<html>\\n<head>\\n    <title>Example Domain</title>\\n\\n    <meta charset=\"utf-8\" />\\n    <meta http-equiv=\"Content-type\" content=\"text/html; charset=utf-8\" />\\n    <meta name=\"viewport\" content=\"width=device-width, initial-scale=1\" />\\n    <style type=\"text/css\">\\n    body {\\n        background-color: #f0f0f2;\\n        margin: 0;\\n        padding: 0;\\n        font-family: -apple-system, system-ui, BlinkMacSystemFont, \"Segoe UI\", \"Open Sans\", \"Helvetica Neue\", Helvetica, Arial, sans-serif;\\n        \\n    }\\n    div {\\n        width: 600px;\\n        margin: 5em auto;\\n        padding: 2em;\\n        background-color: #fdfdff;\\n        border-radius: 0.5em;\\n        box-shadow: 2px 3px 7px 2px rgba(0,0,0,0.02);\\n    }\\n    a:link, a:visited {\\n        color: #38488f;\\n        text-decoration: none;\\n    }\\n    @media (max-width: 700px) {\\n        div {\\n            margin: 0 auto;\\n            width: auto;\\n        }\\n    }\\n    </style>    \\n</head>\\n\\n<body>\\n<div>\\n    <h1>Example Domain</h1>\\n    <p>This domain is for use in illustrative examples in documents. You may use this\\n    domain in literature without prior coordination or asking for permission.</p>\\n    <p><a href=\"https://www.iana.org/domains/example\">More information...</a></p>\\n</div>\\n</body>\\n</html>\\n'"
      ]
     },
     "execution_count": 9,
     "metadata": {},
     "output_type": "execute_result"
    }
   ],
   "source": [
    "# www.example.com 사이트를 요청한 후 응답 받아보기\n",
    "import requests\n",
    "\n",
    "res = requests.get(\"http://www.example.com\")\n",
    "res.text"
   ]
  },
  {
   "cell_type": "markdown",
   "id": "039b96a4-5ffe-4fe3-9fe9-e412a05b4a26",
   "metadata": {},
   "source": [
    "저희가 지난 시간까지 다음과 같은 방법을 통해 요청을 보내고 응답을 받았는데요,\n",
    "\n",
    "이렇게 받은 res를 그대로 사용하지 말고, HTML parser에 전달해봅시다."
   ]
  },
  {
   "cell_type": "code",
   "execution_count": 10,
   "id": "290e6e77-38bf-4251-aa1f-871b7d45096a",
   "metadata": {},
   "outputs": [],
   "source": [
    "# BeautifulSoup4 - bs4를 불러와봅시다.\n",
    "\n",
    "from bs4 import BeautifulSoup"
   ]
  },
  {
   "cell_type": "markdown",
   "id": "b8484023-4f73-4cf9-9e0d-da86218458e9",
   "metadata": {},
   "source": [
    "이렇게 불러온 bs4를 사용하기 위해선, BeautifulSoup 객체를 생성해주어야합니다."
   ]
  },
  {
   "cell_type": "code",
   "execution_count": 12,
   "id": "d59dbede-8017-4b03-9e3d-f8b0ff38de21",
   "metadata": {},
   "outputs": [],
   "source": [
    "# BeautifulSoup객체를 만들어봅시다.\n",
    "# 첫번째 인자로는 response의 body를 텍스트로 전달합니다.\n",
    "# 두번째 인자로는 \"html\"로 분석한다는 것을 명시해줍니다.\n",
    "\n",
    "soup = BeautifulSoup(res.text, \"html.parser\")"
   ]
  },
  {
   "cell_type": "markdown",
   "id": "18f68fac-67f4-4cc6-a3ad-6d3822b529ba",
   "metadata": {},
   "source": [
    "이 soup은 HTML 정보를 분석해서 가지고 있습니다. 이를 확인해볼까요?"
   ]
  },
  {
   "cell_type": "code",
   "execution_count": 13,
   "id": "e0badeea-a4fc-4939-8582-6e91d66e4561",
   "metadata": {},
   "outputs": [
    {
     "name": "stdout",
     "output_type": "stream",
     "text": [
      "<!DOCTYPE html>\n",
      "<html>\n",
      " <head>\n",
      "  <title>\n",
      "   Example Domain\n",
      "  </title>\n",
      "  <meta charset=\"utf-8\"/>\n",
      "  <meta content=\"text/html; charset=utf-8\" http-equiv=\"Content-type\"/>\n",
      "  <meta content=\"width=device-width, initial-scale=1\" name=\"viewport\"/>\n",
      "  <style type=\"text/css\">\n",
      "   body {\n",
      "        background-color: #f0f0f2;\n",
      "        margin: 0;\n",
      "        padding: 0;\n",
      "        font-family: -apple-system, system-ui, BlinkMacSystemFont, \"Segoe UI\", \"Open Sans\", \"Helvetica Neue\", Helvetica, Arial, sans-serif;\n",
      "        \n",
      "    }\n",
      "    div {\n",
      "        width: 600px;\n",
      "        margin: 5em auto;\n",
      "        padding: 2em;\n",
      "        background-color: #fdfdff;\n",
      "        border-radius: 0.5em;\n",
      "        box-shadow: 2px 3px 7px 2px rgba(0,0,0,0.02);\n",
      "    }\n",
      "    a:link, a:visited {\n",
      "        color: #38488f;\n",
      "        text-decoration: none;\n",
      "    }\n",
      "    @media (max-width: 700px) {\n",
      "        div {\n",
      "            margin: 0 auto;\n",
      "            width: auto;\n",
      "        }\n",
      "    }\n",
      "  </style>\n",
      " </head>\n",
      " <body>\n",
      "  <div>\n",
      "   <h1>\n",
      "    Example Domain\n",
      "   </h1>\n",
      "   <p>\n",
      "    This domain is for use in illustrative examples in documents. You may use this\n",
      "    domain in literature without prior coordination or asking for permission.\n",
      "   </p>\n",
      "   <p>\n",
      "    <a href=\"https://www.iana.org/domains/example\">\n",
      "     More information...\n",
      "    </a>\n",
      "   </p>\n",
      "  </div>\n",
      " </body>\n",
      "</html>\n",
      "\n"
     ]
    }
   ],
   "source": [
    "# 객체 soup의 .prettify()를 활용하면 분석된 HTML을 보기 편하게 반환해줍니다.\n",
    "\n",
    "print(soup.prettify())"
   ]
  },
  {
   "cell_type": "markdown",
   "id": "3087e904-a961-4270-a60c-049dae4e261b",
   "metadata": {},
   "source": [
    "HTML이 들여쓰기가 되어 예쁘게 출력된 것을 확인할 수 있습니다.\n",
    "\n",
    "이 soup 객체를 통해서 우리는 HTML의 특정 요소를 가지고 올 수 있습니다."
   ]
  },
  {
   "cell_type": "code",
   "execution_count": 14,
   "id": "236c0632-5db6-4d5b-8145-ef7c68306438",
   "metadata": {},
   "outputs": [
    {
     "data": {
      "text/plain": [
       "<title>Example Domain</title>"
      ]
     },
     "execution_count": 14,
     "metadata": {},
     "output_type": "execute_result"
    }
   ],
   "source": [
    "# title 가져오기\n",
    "\n",
    "soup.title"
   ]
  },
  {
   "cell_type": "code",
   "execution_count": 15,
   "id": "b42b7b02-5471-487b-b98b-75a67906e130",
   "metadata": {},
   "outputs": [
    {
     "data": {
      "text/plain": [
       "<head>\n",
       "<title>Example Domain</title>\n",
       "<meta charset=\"utf-8\"/>\n",
       "<meta content=\"text/html; charset=utf-8\" http-equiv=\"Content-type\"/>\n",
       "<meta content=\"width=device-width, initial-scale=1\" name=\"viewport\"/>\n",
       "<style type=\"text/css\">\n",
       "    body {\n",
       "        background-color: #f0f0f2;\n",
       "        margin: 0;\n",
       "        padding: 0;\n",
       "        font-family: -apple-system, system-ui, BlinkMacSystemFont, \"Segoe UI\", \"Open Sans\", \"Helvetica Neue\", Helvetica, Arial, sans-serif;\n",
       "        \n",
       "    }\n",
       "    div {\n",
       "        width: 600px;\n",
       "        margin: 5em auto;\n",
       "        padding: 2em;\n",
       "        background-color: #fdfdff;\n",
       "        border-radius: 0.5em;\n",
       "        box-shadow: 2px 3px 7px 2px rgba(0,0,0,0.02);\n",
       "    }\n",
       "    a:link, a:visited {\n",
       "        color: #38488f;\n",
       "        text-decoration: none;\n",
       "    }\n",
       "    @media (max-width: 700px) {\n",
       "        div {\n",
       "            margin: 0 auto;\n",
       "            width: auto;\n",
       "        }\n",
       "    }\n",
       "    </style>\n",
       "</head>"
      ]
     },
     "execution_count": 15,
     "metadata": {},
     "output_type": "execute_result"
    }
   ],
   "source": [
    "# head 가져오기\n",
    "soup.head"
   ]
  },
  {
   "cell_type": "code",
   "execution_count": 16,
   "id": "735144ff-dc77-451f-be7c-91dc973a824b",
   "metadata": {},
   "outputs": [
    {
     "data": {
      "text/plain": [
       "<body>\n",
       "<div>\n",
       "<h1>Example Domain</h1>\n",
       "<p>This domain is for use in illustrative examples in documents. You may use this\n",
       "    domain in literature without prior coordination or asking for permission.</p>\n",
       "<p><a href=\"https://www.iana.org/domains/example\">More information...</a></p>\n",
       "</div>\n",
       "</body>"
      ]
     },
     "execution_count": 16,
     "metadata": {},
     "output_type": "execute_result"
    }
   ],
   "source": [
    "# body 가져오기\n",
    "soup.body"
   ]
  },
  {
   "cell_type": "code",
   "execution_count": 20,
   "id": "da97f3e5-1bd1-441f-a151-ac6b63216a08",
   "metadata": {},
   "outputs": [],
   "source": [
    "# <h1> 태그로 감싸진 요소 하나 찾기\n",
    "\n",
    "h1 = soup.find(\"h1\")"
   ]
  },
  {
   "cell_type": "markdown",
   "id": "5a363485-dad7-460b-a703-4ead7aab58e8",
   "metadata": {},
   "source": [
    "만약 태그를 많이 가지고오고싶다면 어떻게 해야할까요?"
   ]
  },
  {
   "cell_type": "code",
   "execution_count": 21,
   "id": "380af2fe-2124-4c8a-a575-0a78fe6a5239",
   "metadata": {},
   "outputs": [
    {
     "data": {
      "text/plain": [
       "[<p>This domain is for use in illustrative examples in documents. You may use this\n",
       "     domain in literature without prior coordination or asking for permission.</p>,\n",
       " <p><a href=\"https://www.iana.org/domains/example\">More information...</a></p>]"
      ]
     },
     "execution_count": 21,
     "metadata": {},
     "output_type": "execute_result"
    }
   ],
   "source": [
    "# <p> 태그로 감싸진 요소들 찾기\n",
    "\n",
    "soup.find_all(\"p\")"
   ]
  },
  {
   "cell_type": "code",
   "execution_count": 22,
   "id": "dda0108c-6b5b-4592-b219-618f308b9950",
   "metadata": {},
   "outputs": [
    {
     "data": {
      "text/plain": [
       "'h1'"
      ]
     },
     "execution_count": 22,
     "metadata": {},
     "output_type": "execute_result"
    }
   ],
   "source": [
    "# 태그 이름 가져오기\n",
    "h1.name"
   ]
  },
  {
   "cell_type": "code",
   "execution_count": 23,
   "id": "d74b650a-dab2-4593-bd47-95970096f671",
   "metadata": {},
   "outputs": [
    {
     "data": {
      "text/plain": [
       "'Example Domain'"
      ]
     },
     "execution_count": 23,
     "metadata": {},
     "output_type": "execute_result"
    }
   ],
   "source": [
    "# 태그 내용 가져오기\n",
    "h1.text"
   ]
  }
 ],
 "metadata": {
  "kernelspec": {
   "display_name": "Python 3 (ipykernel)",
   "language": "python",
   "name": "python3"
  },
  "language_info": {
   "codemirror_mode": {
    "name": "ipython",
    "version": 3
   },
   "file_extension": ".py",
   "mimetype": "text/x-python",
   "name": "python",
   "nbconvert_exporter": "python",
   "pygments_lexer": "ipython3",
   "version": "3.10.6"
  }
 },
 "nbformat": 4,
 "nbformat_minor": 5
}
