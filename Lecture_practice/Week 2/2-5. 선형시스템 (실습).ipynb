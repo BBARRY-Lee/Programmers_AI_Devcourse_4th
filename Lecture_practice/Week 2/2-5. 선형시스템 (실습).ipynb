{
 "cells": [
  {
   "cell_type": "markdown",
   "metadata": {},
   "source": [
    "# 인공지능 수학 - 선형대수 (Numpy 실습)\n",
    "## 행렬과 벡터의 코딩 및 연산"
   ]
  },
  {
   "cell_type": "code",
   "execution_count": 1,
   "metadata": {},
   "outputs": [
    {
     "name": "stdout",
     "output_type": "stream",
     "text": [
      "Requirement already satisfied: numpy in ./lib/python3.10/site-packages (1.23.3)\n",
      "Note: you may need to restart the kernel to use updated packages.\n"
     ]
    }
   ],
   "source": [
    "%pip install numpy"
   ]
  },
  {
   "cell_type": "code",
   "execution_count": 2,
   "metadata": {},
   "outputs": [],
   "source": [
    "import numpy as np"
   ]
  },
  {
   "cell_type": "code",
   "execution_count": 3,
   "metadata": {},
   "outputs": [
    {
     "name": "stdout",
     "output_type": "stream",
     "text": [
      "[[ 3  1  1]\n",
      " [ 1 -2 -1]\n",
      " [ 1  1  1]]\n",
      "(3, 3)\n"
     ]
    }
   ],
   "source": [
    "A = np.array([[3, 1, 1], [1, -2, -1], [1, 1, 1]])\n",
    "\n",
    "print(A)\n",
    "print(np.shape(A))"
   ]
  },
  {
   "cell_type": "code",
   "execution_count": 4,
   "metadata": {},
   "outputs": [
    {
     "name": "stdout",
     "output_type": "stream",
     "text": [
      "[4 1 2]\n",
      "(3,)\n"
     ]
    }
   ],
   "source": [
    "# Vector Cording\n",
    "b =np.array([4, 1, 2])\n",
    "print(b)\n",
    "print(np.shape(b)) #3차원 벡터 표현"
   ]
  },
  {
   "cell_type": "code",
   "execution_count": 6,
   "metadata": {},
   "outputs": [
    {
     "name": "stdout",
     "output_type": "stream",
     "text": [
      "[[ 5.00000000e-01 -7.40148683e-17 -5.00000000e-01]\n",
      " [ 1.00000000e+00 -1.00000000e+00 -2.00000000e+00]\n",
      " [-1.50000000e+00  1.00000000e+00  3.50000000e+00]]\n",
      "(3, 3)\n"
     ]
    }
   ],
   "source": [
    "# 역행렬 구하기\n",
    "A_inv = np.linalg.inv(A)\n",
    "\n",
    "print(A_inv)\n",
    "print(np.shape(A_inv))"
   ]
  },
  {
   "cell_type": "code",
   "execution_count": 8,
   "metadata": {},
   "outputs": [
    {
     "name": "stdout",
     "output_type": "stream",
     "text": [
      "[ 1. -1.  2.]\n",
      "(3,)\n"
     ]
    }
   ],
   "source": [
    "# 역행렬을 이용한 선형시스템 Ax=b의 해 구하기\n",
    "# x = np.matmul(A_inv, b)\n",
    "# 행렬과 행렬, 행력과 벡터를 곱할 때 \"@\" 사용\n",
    "\n",
    "x = A_inv @ b\n",
    "\n",
    "print(x)\n",
    "print(np.shape(x))"
   ]
  },
  {
   "cell_type": "code",
   "execution_count": 9,
   "metadata": {},
   "outputs": [
    {
     "name": "stdout",
     "output_type": "stream",
     "text": [
      "(3,)\n",
      "[4. 1. 2.]\n",
      "True\n"
     ]
    }
   ],
   "source": [
    "# 결과 검증\n",
    "# bb - np.matmul(A, x)\n",
    "\n",
    "bb = A @ x \n",
    "print(np.shape(bb))\n",
    "print(bb)\n",
    "\n",
    "# 벡터 norm (크기)이 10^-3 보다 작으면 True\n",
    "if np.linalg.norm(b-bb) < 1e-3 :\n",
    "    print(\"True\")\n",
    "else:\n",
    "    print(\"somethoing wrong\")"
   ]
  }
 ],
 "metadata": {
  "kernelspec": {
   "display_name": "Python 3.10.6 ('study': venv)",
   "language": "python",
   "name": "python3"
  },
  "language_info": {
   "codemirror_mode": {
    "name": "ipython",
    "version": 3
   },
   "file_extension": ".py",
   "mimetype": "text/x-python",
   "name": "python",
   "nbconvert_exporter": "python",
   "pygments_lexer": "ipython3",
   "version": "3.10.6"
  },
  "orig_nbformat": 4,
  "vscode": {
   "interpreter": {
    "hash": "242f6292b6908bdf5cac5effefc5ea0de320b60873ef5dc54aabf2746798da14"
   }
  }
 },
 "nbformat": 4,
 "nbformat_minor": 2
}
