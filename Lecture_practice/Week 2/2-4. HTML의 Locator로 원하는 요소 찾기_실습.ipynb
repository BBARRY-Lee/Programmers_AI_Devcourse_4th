{
 "cells": [
  {
   "cell_type": "markdown",
   "id": "2154e976-80c5-4998-a62d-c4932956e00c",
   "metadata": {
    "jp-MarkdownHeadingCollapsed": true,
    "tags": []
   },
   "source": [
    "## 2-4. HTML의 Locator로 원하는 요소 찾기\n",
    "- BeautifulSoup을 이용해서 더 정확하게 우리가 원하는 정보를 가져오는 방법을 학습해봅시다.\n",
    "\n",
    "## 그래, 바로 너! `id`와 `class`\n",
    "태그는 자신의 이름 뿐만 아니라 고유한 속성 또한 가질 수 있습니다.\n",
    "이 중에서 id와 class는 Locator로서, 특정 태그를 지칭하는 데에 사용됩니다.\n",
    "\n",
    "- `tagname` : 태그의 이름\n",
    "- `id` : 하나의 고유 태그를 가리키는 라벨\n",
    "- `class` : 여러 태그를 묶는 라벨\n",
    "\n",
    "<p>This element has only tagname</p>\n",
    "<p id=\"target\">This element has tagname and id</p>\n",
    "<p class=\"targets\">This element has tagname and class</p>\n",
    "\n",
    "\n",
    "id와 class를 이용해서 HTML의 특정 태그를 지칭하고 가져오는 방법에 대해서 알아봅시다."
   ]
  },
  {
   "cell_type": "code",
   "execution_count": 2,
   "id": "037d7c7e-78c5-46c8-8a56-b343eb0afe12",
   "metadata": {},
   "outputs": [],
   "source": [
    "# 스크래핑에 필요한 라이브러리를 불러와봅시다.\n",
    "\n",
    "import requests\n",
    "from bs4 import BeautifulSoup"
   ]
  },
  {
   "cell_type": "code",
   "execution_count": 5,
   "id": "13bb93ea-770b-4beb-a38e-4820b0caea97",
   "metadata": {},
   "outputs": [],
   "source": [
    "## 또 다른 연습 사이트를 이용해봅시다.\n",
    "# http://example.python-scraping.com/\n",
    "# 깊게 요소가 있음 -> 가져오는 방법은?\n",
    "\n",
    "\n",
    "res= requests.get(\"http://example.python-scraping.com/\")\n",
    "soup = BeautifulSoup(res.text, \"html.parser\")"
   ]
  },
  {
   "cell_type": "markdown",
   "id": "f29d726b-81f1-4392-8ccb-11bb04b842de",
   "metadata": {},
   "source": [
    "## `id`를 이용해서 요소 가져오기\n",
    "\n",
    "id는 요소 하나를 지칭하는 특별한 별명입니다. (겹칠 수 없어요!)\n",
    "id를 이용하면 해당하는 태그 단 하나를 쉽게 가져올 수 있습니다."
   ]
  },
  {
   "cell_type": "code",
   "execution_count": 6,
   "id": "9e4e8d3b-131e-47c8-9a7e-55a8c97a62f3",
   "metadata": {},
   "outputs": [
    {
     "data": {
      "text/plain": [
       "<div class=\"navbar navbar-inverse\">\n",
       "<div class=\"flash\"></div>\n",
       "<div class=\"navbar-inner\">\n",
       "<div class=\"container\">\n",
       "<!-- the next tag is necessary for bootstrap menus, do not remove -->\n",
       "<button class=\"btn btn-navbar\" data-target=\".nav-collapse\" data-toggle=\"collapse\" style=\"display:none;\" type=\"button\">\n",
       "<span class=\"icon-bar\"></span>\n",
       "<span class=\"icon-bar\"></span>\n",
       "<span class=\"icon-bar\"></span>\n",
       "</button>\n",
       "<ul class=\"nav pull-right\" id=\"navbar\"><li class=\"dropdown\"><a class=\"dropdown-toggle\" data-toggle=\"dropdown\" href=\"#\" rel=\"nofollow\">Log In</a><ul class=\"dropdown-menu\"><li><a href=\"/places/default/user/register?_next=/places/default/index\" rel=\"nofollow\"><i class=\"icon icon-user glyphicon glyphicon-user\"></i> Sign Up</a></li><li class=\"divider\"></li><li><a href=\"/places/default/user/login?_next=/places/default/index\" rel=\"nofollow\"><i class=\"icon icon-off glyphicon glyphicon-off\"></i> Log In</a></li></ul></li></ul>\n",
       "<div class=\"nav\">\n",
       "<ul class=\"nav\"><li class=\"web2py-menu-first\"><a href=\"/places/default/index\">Home</a></li><li class=\"web2py-menu-last\"><a href=\"/places/default/search\">Search</a></li></ul>\n",
       "</div><!--/.nav-collapse -->\n",
       "</div>\n",
       "</div>\n",
       "</div>"
      ]
     },
     "execution_count": 6,
     "metadata": {},
     "output_type": "execute_result"
    }
   ],
   "source": [
    "## id 없이 div 태그를 찾아봅시다.\n",
    "\n",
    "soup.find(\"div\")"
   ]
  },
  {
   "cell_type": "code",
   "execution_count": 7,
   "id": "59301ebd-e6f0-463b-8450-51ba4d23d68c",
   "metadata": {},
   "outputs": [
    {
     "data": {
      "text/plain": [
       "<div id=\"results\">\n",
       "<table><tr><td><div><a href=\"/places/default/view/Afghanistan-1\"><img src=\"/places/static/images/flags/af.png\"/> Afghanistan</a></div></td><td><div><a href=\"/places/default/view/Aland-Islands-2\"><img src=\"/places/static/images/flags/ax.png\"/> Aland Islands</a></div></td></tr><tr><td><div><a href=\"/places/default/view/Albania-3\"><img src=\"/places/static/images/flags/al.png\"/> Albania</a></div></td><td><div><a href=\"/places/default/view/Algeria-4\"><img src=\"/places/static/images/flags/dz.png\"/> Algeria</a></div></td></tr><tr><td><div><a href=\"/places/default/view/American-Samoa-5\"><img src=\"/places/static/images/flags/as.png\"/> American Samoa</a></div></td><td><div><a href=\"/places/default/view/Andorra-6\"><img src=\"/places/static/images/flags/ad.png\"/> Andorra</a></div></td></tr><tr><td><div><a href=\"/places/default/view/Angola-7\"><img src=\"/places/static/images/flags/ao.png\"/> Angola</a></div></td><td><div><a href=\"/places/default/view/Anguilla-8\"><img src=\"/places/static/images/flags/ai.png\"/> Anguilla</a></div></td></tr><tr><td><div><a href=\"/places/default/view/Antarctica-9\"><img src=\"/places/static/images/flags/aq.png\"/> Antarctica</a></div></td><td><div><a href=\"/places/default/view/Antigua-and-Barbuda-10\"><img src=\"/places/static/images/flags/ag.png\"/> Antigua and Barbuda</a></div></td></tr></table>\n",
       "</div>"
      ]
     },
     "execution_count": 7,
     "metadata": {},
     "output_type": "execute_result"
    }
   ],
   "source": [
    "## id가 results인 div 태그를 찾아봅시다.\n",
    "\n",
    "soup.find(\"div\", id = \"results\")"
   ]
  },
  {
   "cell_type": "markdown",
   "id": "bca5aabb-6657-4b40-aa8e-fa245e8b924c",
   "metadata": {},
   "source": [
    "## `class`를 이용해서 요소(들) 가져오기\n",
    "class는 유사한 요소들을 구분짓는 별명입니다.\n",
    "class를 이용하면 해당하는 태그 단 하나를 쉽게 가져올 수 있습니다.\n",
    "\n",
    "e.g. 차트 속의 데이터 등"
   ]
  },
  {
   "cell_type": "code",
   "execution_count": 13,
   "id": "9683be41-044a-4616-88a4-1f659193504f",
   "metadata": {},
   "outputs": [],
   "source": [
    "# class가 \"page-header\"인 div 태그를 찾아봅시다.\n",
    "\n",
    "find_result = soup.find(\"div\", \"page-header\")"
   ]
  },
  {
   "cell_type": "markdown",
   "id": "6b82a87e-ed71-4f11-9c44-d9b2ec4f2770",
   "metadata": {},
   "source": [
    "이는 객체이므로 다음과 같은 접근을 진행할 수 있겠죠?"
   ]
  },
  {
   "cell_type": "code",
   "execution_count": 14,
   "id": "0591b849-ea71-4eea-9571-9737d4997956",
   "metadata": {},
   "outputs": [
    {
     "data": {
      "text/plain": [
       "<div class=\"page-header\">\n",
       "<h1>\n",
       "                    Example web scraping website\n",
       "                    <small></small>\n",
       "</h1>\n",
       "</div>"
      ]
     },
     "execution_count": 14,
     "metadata": {},
     "output_type": "execute_result"
    }
   ],
   "source": [
    "# 위 결과에서 text 값을 깔끔하게 가져와봅시다.\n",
    "\n",
    "find_result"
   ]
  },
  {
   "cell_type": "code",
   "execution_count": 15,
   "id": "8cef62dd-2fba-461d-b152-9c96d980e9af",
   "metadata": {},
   "outputs": [
    {
     "data": {
      "text/plain": [
       "'Example web scraping website'"
      ]
     },
     "execution_count": 15,
     "metadata": {},
     "output_type": "execute_result"
    }
   ],
   "source": [
    "# strip을 활용해, 불필요한 공백제거하여 출력\n",
    "find_result.h1.text.strip()"
   ]
  }
 ],
 "metadata": {
  "kernelspec": {
   "display_name": "Python 3 (ipykernel)",
   "language": "python",
   "name": "python3"
  },
  "language_info": {
   "codemirror_mode": {
    "name": "ipython",
    "version": 3
   },
   "file_extension": ".py",
   "mimetype": "text/x-python",
   "name": "python",
   "nbconvert_exporter": "python",
   "pygments_lexer": "ipython3",
   "version": "3.10.6"
  }
 },
 "nbformat": 4,
 "nbformat_minor": 5
}
