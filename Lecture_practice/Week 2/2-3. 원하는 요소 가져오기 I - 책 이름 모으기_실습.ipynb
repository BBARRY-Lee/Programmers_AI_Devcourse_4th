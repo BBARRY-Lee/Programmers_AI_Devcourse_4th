{
 "cells": [
  {
   "cell_type": "markdown",
   "id": "62f65e0a-59ed-47e9-9b56-8238fe8a39e0",
   "metadata": {},
   "source": [
    "## 2-3. 원하는 요소 가져오기 I - 책 이름 모으기\n",
    "- 연습만이 살길! 예시 사이트를 통해 스크래핑을 진행해봅시다.\n",
    "\n",
    "## Target: Mock Book Data\n",
    "다음 사이트에 있는 책들의 이름 정보를 스크래핑 해봅시다 : http://books.toscrape.com/catalogue/category/books/travel_2/index.html\n",
    "\n",
    "해당 웹 페이지는 임의의 책 정보가 담긴 웹 사이트입니다."
   ]
  },
  {
   "cell_type": "code",
   "execution_count": 3,
   "id": "ae834cf6-539d-44a4-8f6d-e9dfbb69a2cb",
   "metadata": {},
   "outputs": [],
   "source": [
    "# 스크래핑에 필요한 라이브러리를 불러와봅시다.\n",
    "import requests\n",
    "from bs4 import BeautifulSoup\n"
   ]
  },
  {
   "cell_type": "code",
   "execution_count": 4,
   "id": "be7e267b-39c2-4653-92d3-e519fa91134e",
   "metadata": {},
   "outputs": [],
   "source": [
    "# 예시 사이트에 요청을 진행하고, 응답을 바탕으로 BeautifulSoup 객체를 만들어봅시다.\n",
    "res = requests.get(\"http://books.toscrape.com/catalogue/category/books/travel_2/index.html\")\n",
    "\n",
    "soup = BeautifulSoup(res.text, \"html.parser\")"
   ]
  },
  {
   "cell_type": "code",
   "execution_count": 8,
   "id": "d94ddc9f-dc7e-49f6-8d79-751b75dd054a",
   "metadata": {},
   "outputs": [],
   "source": [
    "# <h3> 태그에 해당하는 요소를 하나 찾아봅시다\n",
    "book = soup.find(\"h3\")"
   ]
  },
  {
   "cell_type": "code",
   "execution_count": 14,
   "id": "e2ac050f-ac5f-41c2-b759-941abc814a65",
   "metadata": {},
   "outputs": [
    {
     "data": {
      "text/plain": [
       "<h3><a href=\"../../../its-only-the-himalayas_981/index.html\" title=\"It's Only the Himalayas\">It's Only the Himalayas</a></h3>"
      ]
     },
     "execution_count": 14,
     "metadata": {},
     "output_type": "execute_result"
    }
   ],
   "source": [
    "# <h3> 태그에 해당하는 요소를 모두 찾아봅시다\n",
    "h3_results = soup.find_all(\"h3\")\n",
    "h3_results[0]"
   ]
  },
  {
   "cell_type": "markdown",
   "id": "6115d2db-d1ca-4a60-91b5-bcdf63fb7181",
   "metadata": {},
   "source": [
    "찾아온 데이터들은 모두 객체이므로, 저희가 익숙한 방식대로 데이터를 추출할 수 있습니다.\n",
    "\n"
   ]
  },
  {
   "cell_type": "code",
   "execution_count": 15,
   "id": "559e2ac0-5877-4c31-b712-ed66f0353c7e",
   "metadata": {},
   "outputs": [
    {
     "data": {
      "text/plain": [
       "'1,000 Places to See ...'"
      ]
     },
     "execution_count": 15,
     "metadata": {},
     "output_type": "execute_result"
    }
   ],
   "source": [
    "# book_list에서 우리가 원하는 제목(title)만 추출해봅시다.\n",
    "\n",
    "book.a.text\n"
   ]
  },
  {
   "cell_type": "code",
   "execution_count": 16,
   "id": "031eb15a-240f-4027-bf5f-6bb8f46a9a5c",
   "metadata": {},
   "outputs": [
    {
     "name": "stdout",
     "output_type": "stream",
     "text": [
      "It's Only the Himalayas\n",
      "Full Moon over Noahâs ...\n",
      "See America: A Celebration ...\n",
      "Vagabonding: An Uncommon Guide ...\n",
      "Under the Tuscan Sun\n",
      "A Summer In Europe\n",
      "The Great Railway Bazaar\n",
      "A Year in Provence ...\n",
      "The Road to Little ...\n",
      "Neither Here nor There: ...\n",
      "1,000 Places to See ...\n"
     ]
    }
   ],
   "source": [
    "for book in h3_results :\n",
    "    print(book.a.text)\n",
    "# 제목이 일부 짤림"
   ]
  },
  {
   "cell_type": "code",
   "execution_count": 18,
   "id": "382aa90b-ea55-4d34-bf36-524776a775e9",
   "metadata": {},
   "outputs": [
    {
     "name": "stdout",
     "output_type": "stream",
     "text": [
      "It's Only the Himalayas\n",
      "Full Moon over Noahâs Ark: An Odyssey to Mount Ararat and Beyond\n",
      "See America: A Celebration of Our National Parks & Treasured Sites\n",
      "Vagabonding: An Uncommon Guide to the Art of Long-Term World Travel\n",
      "Under the Tuscan Sun\n",
      "A Summer In Europe\n",
      "The Great Railway Bazaar\n",
      "A Year in Provence (Provence #1)\n",
      "The Road to Little Dribbling: Adventures of an American in Britain (Notes From a Small Island #2)\n",
      "Neither Here nor There: Travels in Europe\n",
      "1,000 Places to See Before You Die\n"
     ]
    }
   ],
   "source": [
    "# 제목이 안 짤리고 출력되도록\n",
    "for book in h3_results :\n",
    "    print(book.a[\"title\"])"
   ]
  }
 ],
 "metadata": {
  "kernelspec": {
   "display_name": "Python 3 (ipykernel)",
   "language": "python",
   "name": "python3"
  },
  "language_info": {
   "codemirror_mode": {
    "name": "ipython",
    "version": 3
   },
   "file_extension": ".py",
   "mimetype": "text/x-python",
   "name": "python",
   "nbconvert_exporter": "python",
   "pygments_lexer": "ipython3",
   "version": "3.10.6"
  }
 },
 "nbformat": 4,
 "nbformat_minor": 5
}
