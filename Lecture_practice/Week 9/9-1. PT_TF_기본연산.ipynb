{
  "nbformat": 4,
  "nbformat_minor": 0,
  "metadata": {
    "colab": {
      "provenance": [],
      "toc_visible": true
    },
    "kernelspec": {
      "name": "python3",
      "display_name": "Python 3"
    },
    "language_info": {
      "name": "python"
    },
    "gpuClass": "standard",
    "accelerator": "GPU"
  },
  "cells": [
    {
      "cell_type": "code",
      "execution_count": null,
      "metadata": {
        "id": "w1DumnHwME9A"
      },
      "outputs": [],
      "source": [
        "%matplotlib inline\n"
      ]
    },
    {
      "cell_type": "code",
      "source": [
        "from __future__ import print_function\n",
        "import torch\n",
        "torch.__version__"
      ],
      "metadata": {
        "colab": {
          "base_uri": "https://localhost:8080/",
          "height": 35
        },
        "id": "eEheevvfMbcX",
        "outputId": "5489e4bb-c859-4e7e-ed80-4e439670874a"
      },
      "execution_count": null,
      "outputs": [
        {
          "output_type": "execute_result",
          "data": {
            "text/plain": [
              "'1.12.1+cu113'"
            ],
            "application/vnd.google.colaboratory.intrinsic+json": {
              "type": "string"
            }
          },
          "metadata": {},
          "execution_count": 3
        }
      ]
    },
    {
      "cell_type": "markdown",
      "source": [
        "# What is PyTorch?\n",
        "- Python 기반 과학 연산 패키지로 다음과 같은 두 집단을 대상으로 함\n",
        "- numpy를 대체하면서 GPU 연산이 필요한 경우\n",
        "- 최대한 유연성과 속도를 제공하는 딥러닝 연구 플랫폼이 필요한 경우"
      ],
      "metadata": {
        "id": "85kqjrwOMu4F"
      }
    },
    {
      "cell_type": "markdown",
      "source": [
        "# Getting Started\n",
        "- Tensor는 numpy의 ndarray와 유사하며, 추가로 GPU를 사용한 연산 가속도 가능함"
      ],
      "metadata": {
        "id": "lwc4yL7yMz_L"
      }
    },
    {
      "cell_type": "code",
      "source": [
        "# 초기화되지 않은 5x3 행렬 생성\n",
        "\n",
        "x = torch.empty(5, 3)\n",
        "print(x)"
      ],
      "metadata": {
        "colab": {
          "base_uri": "https://localhost:8080/"
        },
        "id": "W8jxEUUXMWeY",
        "outputId": "0461f0eb-af46-4b06-9c6f-eabae638ffa0"
      },
      "execution_count": null,
      "outputs": [
        {
          "output_type": "stream",
          "name": "stdout",
          "text": [
            "tensor([[9.9763e-36, 0.0000e+00, 3.3631e-44],\n",
            "        [0.0000e+00,        nan, 0.0000e+00],\n",
            "        [1.1578e+27, 1.1362e+30, 7.1547e+22],\n",
            "        [4.5828e+30, 1.2121e+04, 7.1846e+22],\n",
            "        [9.2198e-39, 7.0374e+22, 0.0000e+00]])\n"
          ]
        }
      ]
    },
    {
      "cell_type": "code",
      "source": [
        "# 무작위로 초기화된 행렬 생성\n",
        "\n",
        "x = torch.randn(5,3) # 표준정규분포에서 샘플링해서 값을 가져옴\n",
        "print(x)\n",
        "x = torch.rand(5,3) # 0~1에서 값을 랜덤으로 샘플링해서 값을 가져옴 (음수 값 없음)\n",
        "print(x)"
      ],
      "metadata": {
        "colab": {
          "base_uri": "https://localhost:8080/"
        },
        "id": "drsHW6xDMWhF",
        "outputId": "e89b991c-f7c6-4f48-f57e-a342387ea7fc"
      },
      "execution_count": null,
      "outputs": [
        {
          "output_type": "stream",
          "name": "stdout",
          "text": [
            "tensor([[ 0.7150,  0.6090,  0.0124],\n",
            "        [ 0.5515, -0.6435, -1.5843],\n",
            "        [ 0.7592, -1.5877,  0.4180],\n",
            "        [ 0.3117,  0.1395,  0.0953],\n",
            "        [ 0.3498,  2.4077,  0.4543]])\n",
            "tensor([[0.2554, 0.0212, 0.7919],\n",
            "        [0.4489, 0.3757, 0.9940],\n",
            "        [0.1689, 0.6127, 0.1294],\n",
            "        [0.6209, 0.3752, 0.2906],\n",
            "        [0.9992, 0.6339, 0.6428]])\n"
          ]
        }
      ]
    },
    {
      "cell_type": "markdown",
      "source": [
        "### dtype이 long이고, 0으로 채워진 행렬을 생성"
      ],
      "metadata": {
        "id": "R7-ClVH7NvQa"
      }
    },
    {
      "cell_type": "code",
      "source": [
        "x = torch.zeros(5,3, dtype = torch.long)\n",
        "print(x)"
      ],
      "metadata": {
        "colab": {
          "base_uri": "https://localhost:8080/"
        },
        "id": "0k-P4bVcMWjm",
        "outputId": "851013e3-1c06-45a7-b787-d790d493bb46"
      },
      "execution_count": null,
      "outputs": [
        {
          "output_type": "stream",
          "name": "stdout",
          "text": [
            "tensor([[0, 0, 0],\n",
            "        [0, 0, 0],\n",
            "        [0, 0, 0],\n",
            "        [0, 0, 0],\n",
            "        [0, 0, 0]])\n"
          ]
        }
      ]
    },
    {
      "cell_type": "code",
      "source": [
        "x = torch.ones(5,3, dtype = torch.long)\n",
        "print(x)"
      ],
      "metadata": {
        "colab": {
          "base_uri": "https://localhost:8080/"
        },
        "id": "AL7RTXSOMWl8",
        "outputId": "7f957e94-70f4-44ad-b937-08bfd3821e78"
      },
      "execution_count": null,
      "outputs": [
        {
          "output_type": "stream",
          "name": "stdout",
          "text": [
            "tensor([[1, 1, 1],\n",
            "        [1, 1, 1],\n",
            "        [1, 1, 1],\n",
            "        [1, 1, 1],\n",
            "        [1, 1, 1]])\n"
          ]
        }
      ]
    },
    {
      "cell_type": "markdown",
      "source": [
        "### 데이터로부터 tensor를 직접 생성"
      ],
      "metadata": {
        "id": "HOdnFbL0ODcG"
      }
    },
    {
      "cell_type": "code",
      "source": [
        "x = torch.tensor([5.5, 3]) # 벡터값 입력\n",
        "print(x)"
      ],
      "metadata": {
        "colab": {
          "base_uri": "https://localhost:8080/"
        },
        "id": "Tdlk59PGMWo5",
        "outputId": "de414d60-6eac-4ccd-a93d-b9ec01a3289a"
      },
      "execution_count": null,
      "outputs": [
        {
          "output_type": "stream",
          "name": "stdout",
          "text": [
            "tensor([5.5000, 3.0000])\n"
          ]
        }
      ]
    },
    {
      "cell_type": "markdown",
      "source": [
        "### 존재하는 tensor를 바탕으로 tensor를 만듦, 이 메서드(method)들은 사용자로부터 제공된 새로운 값이 없는 한, 입력 tensor의 속성들 (ex. dtype)을 재사용함"
      ],
      "metadata": {
        "id": "Lr7E2X1qOOOf"
      }
    },
    {
      "cell_type": "code",
      "source": [
        "x = x.new_ones(5,3, dtype= torch.double) # new * nethods take in sizes\n",
        "print(x)\n",
        "\n",
        "x = torch.randn_like(x, dtype=torch.float) # override dtype! \n",
        "print(x)                                   # result has same size"
      ],
      "metadata": {
        "colab": {
          "base_uri": "https://localhost:8080/"
        },
        "id": "NAc4HEWcMWrb",
        "outputId": "34e16889-fdd1-4987-e6d3-b222a5d136d7"
      },
      "execution_count": null,
      "outputs": [
        {
          "output_type": "stream",
          "name": "stdout",
          "text": [
            "tensor([[1., 1., 1.],\n",
            "        [1., 1., 1.],\n",
            "        [1., 1., 1.],\n",
            "        [1., 1., 1.],\n",
            "        [1., 1., 1.]], dtype=torch.float64)\n",
            "tensor([[-1.3223, -1.0880, -0.0160],\n",
            "        [-0.1405, -0.8578, -0.8183],\n",
            "        [-0.2161,  0.2502,  1.1659],\n",
            "        [-0.9843, -2.1470, -0.6663],\n",
            "        [ 0.3440,  0.4274, -2.1768]])\n"
          ]
        }
      ]
    },
    {
      "cell_type": "markdown",
      "source": [
        "### 행렬의 크기를 구하기"
      ],
      "metadata": {
        "id": "dGyFZeSUO3f_"
      }
    },
    {
      "cell_type": "code",
      "source": [
        "print(x.size())\n",
        "print(x.shape)"
      ],
      "metadata": {
        "colab": {
          "base_uri": "https://localhost:8080/"
        },
        "id": "CRExG9xbMWtx",
        "outputId": "b235bcd5-4ddb-4e1a-97f0-c076d9f64c49"
      },
      "execution_count": null,
      "outputs": [
        {
          "output_type": "stream",
          "name": "stdout",
          "text": [
            "torch.Size([5, 3])\n",
            "torch.Size([5, 3])\n"
          ]
        }
      ]
    },
    {
      "cell_type": "markdown",
      "source": [
        "### 덧셈 : 문법"
      ],
      "metadata": {
        "id": "u8WOCIvtZC33"
      }
    },
    {
      "cell_type": "code",
      "source": [
        "y = torch.rand(5,3)\n",
        "print(x)\n",
        "print(y)\n",
        "print(x+y)"
      ],
      "metadata": {
        "colab": {
          "base_uri": "https://localhost:8080/"
        },
        "id": "Zd21bwl4MWwI",
        "outputId": "02999217-8480-4c5c-80c4-1f411085bb1c"
      },
      "execution_count": null,
      "outputs": [
        {
          "output_type": "stream",
          "name": "stdout",
          "text": [
            "tensor([[-1.3223, -1.0880, -0.0160],\n",
            "        [-0.1405, -0.8578, -0.8183],\n",
            "        [-0.2161,  0.2502,  1.1659],\n",
            "        [-0.9843, -2.1470, -0.6663],\n",
            "        [ 0.3440,  0.4274, -2.1768]])\n",
            "tensor([[0.3321, 0.5775, 0.1928],\n",
            "        [0.0219, 0.3552, 0.2734],\n",
            "        [0.9170, 0.4781, 0.5703],\n",
            "        [0.1287, 0.3561, 0.9692],\n",
            "        [0.9406, 0.1990, 0.0619]])\n",
            "tensor([[-0.9902, -0.5105,  0.1768],\n",
            "        [-0.1185, -0.5026, -0.5449],\n",
            "        [ 0.7009,  0.7283,  1.7362],\n",
            "        [-0.8556, -1.7909,  0.3030],\n",
            "        [ 1.2846,  0.6265, -2.1150]])\n"
          ]
        }
      ]
    },
    {
      "cell_type": "code",
      "source": [
        "print(torch.add(x,y))"
      ],
      "metadata": {
        "colab": {
          "base_uri": "https://localhost:8080/"
        },
        "id": "1sS4FcbqMWyu",
        "outputId": "668f6d81-c73f-4770-fb73-c8d802436910"
      },
      "execution_count": null,
      "outputs": [
        {
          "output_type": "stream",
          "name": "stdout",
          "text": [
            "tensor([[-0.9902, -0.5105,  0.1768],\n",
            "        [-0.1185, -0.5026, -0.5449],\n",
            "        [ 0.7009,  0.7283,  1.7362],\n",
            "        [-0.8556, -1.7909,  0.3030],\n",
            "        [ 1.2846,  0.6265, -2.1150]])\n"
          ]
        }
      ]
    },
    {
      "cell_type": "markdown",
      "source": [
        "### 덧셈 : 결과 tensor를 인자로 제공"
      ],
      "metadata": {
        "id": "kUNt3WSVZO-6"
      }
    },
    {
      "cell_type": "code",
      "source": [
        "result = torch.empty(5,3) # 초기화되지 않은 tensor\n",
        "print(result)\n",
        "\n",
        "torch.add(x,y, out=result) # out 파라미터로 result를 지정\n",
        "print(result) # 결과값이 tensor로 들어옴"
      ],
      "metadata": {
        "colab": {
          "base_uri": "https://localhost:8080/"
        },
        "id": "Lh8x6i0OMW4-",
        "outputId": "9b5aa852-bb39-4bd0-9c66-1fe237ed6092"
      },
      "execution_count": null,
      "outputs": [
        {
          "output_type": "stream",
          "name": "stdout",
          "text": [
            "tensor([[ 9.9765e-36,  0.0000e+00,  1.7682e-01],\n",
            "        [-1.1855e-01, -5.0256e-01, -5.4493e-01],\n",
            "        [ 7.0090e-01,  7.2825e-01,  1.7362e+00],\n",
            "        [-8.5564e-01, -1.7909e+00,  3.0297e-01],\n",
            "        [ 1.2846e+00,  6.2645e-01, -2.1150e+00]])\n",
            "tensor([[-0.9902, -0.5105,  0.1768],\n",
            "        [-0.1185, -0.5026, -0.5449],\n",
            "        [ 0.7009,  0.7283,  1.7362],\n",
            "        [-0.8556, -1.7909,  0.3030],\n",
            "        [ 1.2846,  0.6265, -2.1150]])\n"
          ]
        }
      ]
    },
    {
      "cell_type": "markdown",
      "source": [
        "### 덧셈 : 바꿔치기 (In-place) 형식"
      ],
      "metadata": {
        "id": "zSMhE2raZv_-"
      }
    },
    {
      "cell_type": "code",
      "source": [
        "# add x to y \n",
        "print(y)\n",
        "y.add_(x)\n",
        "print(y) # x가 +된 모습"
      ],
      "metadata": {
        "colab": {
          "base_uri": "https://localhost:8080/"
        },
        "id": "CwKWrmDyZXuS",
        "outputId": "c5ab5515-dbe9-46b6-b782-9a32e70bcc42"
      },
      "execution_count": null,
      "outputs": [
        {
          "output_type": "stream",
          "name": "stdout",
          "text": [
            "tensor([[0.3321, 0.5775, 0.1928],\n",
            "        [0.0219, 0.3552, 0.2734],\n",
            "        [0.9170, 0.4781, 0.5703],\n",
            "        [0.1287, 0.3561, 0.9692],\n",
            "        [0.9406, 0.1990, 0.0619]])\n",
            "tensor([[-0.9902, -0.5105,  0.1768],\n",
            "        [-0.1185, -0.5026, -0.5449],\n",
            "        [ 0.7009,  0.7283,  1.7362],\n",
            "        [-0.8556, -1.7909,  0.3030],\n",
            "        [ 1.2846,  0.6265, -2.1150]])\n"
          ]
        }
      ]
    },
    {
      "cell_type": "markdown",
      "source": [
        "### Note\n",
        "- 바꿔치기 방식으로 tensor의 값을 변경하는 연산은 _를 접미사로 갖는다.\n",
        "- ex. x.copy_(y), x.t_()는 x를 변경한다.\n",
        "- numpy스러운 인덱싱 표기방법을 사용할 수도 있다."
      ],
      "metadata": {
        "id": "3QRVsaaNZ5lu"
      }
    },
    {
      "cell_type": "code",
      "source": [
        "print(x)\n",
        "print(x[:, 1]) # 모든 행의 1번째 열"
      ],
      "metadata": {
        "colab": {
          "base_uri": "https://localhost:8080/"
        },
        "id": "b8mXksVKZfYa",
        "outputId": "fd51f9b0-0fb8-431a-f2fa-4b094a928be8"
      },
      "execution_count": null,
      "outputs": [
        {
          "output_type": "stream",
          "name": "stdout",
          "text": [
            "tensor([[-1.3223, -1.0880, -0.0160],\n",
            "        [-0.1405, -0.8578, -0.8183],\n",
            "        [-0.2161,  0.2502,  1.1659],\n",
            "        [-0.9843, -2.1470, -0.6663],\n",
            "        [ 0.3440,  0.4274, -2.1768]])\n",
            "tensor([-1.0880, -0.8578,  0.2502, -2.1470,  0.4274])\n"
          ]
        }
      ]
    },
    {
      "cell_type": "markdown",
      "source": [
        "### 크기변경 : tensor의 크기나 모양을 변경하고 싶으면 torch.view를 사용"
      ],
      "metadata": {
        "id": "gYOlf0y9aiBp"
      }
    },
    {
      "cell_type": "code",
      "source": [
        "x = torch.randn(4,4)\n",
        "print(x)\n",
        "\n",
        "y = x.view(16) # 16개의 차원을 가진 벡터형태로 변환\n",
        "z = y.view(-1, 2) # the size -1 is inferred from other dimensions (남는 원소를 자동으로 차원을 정해 넣어줘라) -> 2개씩 들어가니까 자동으로 2개씩 8개\n",
        "print(y)\n",
        "print(z)\n",
        "print(y.size(), z.size())"
      ],
      "metadata": {
        "colab": {
          "base_uri": "https://localhost:8080/"
        },
        "id": "z3toJz4tZfai",
        "outputId": "ce57b728-1a63-4561-acc9-a0cf8a0df03f"
      },
      "execution_count": null,
      "outputs": [
        {
          "output_type": "stream",
          "name": "stdout",
          "text": [
            "tensor([[ 1.0331, -2.7639, -1.1657, -1.7601],\n",
            "        [ 1.1753, -0.5830, -1.3325, -0.4675],\n",
            "        [-0.1019, -1.0616,  0.6125, -0.3219],\n",
            "        [ 1.7250, -0.0266,  0.3172, -2.8805]])\n",
            "tensor([ 1.0331, -2.7639, -1.1657, -1.7601,  1.1753, -0.5830, -1.3325, -0.4675,\n",
            "        -0.1019, -1.0616,  0.6125, -0.3219,  1.7250, -0.0266,  0.3172, -2.8805])\n",
            "tensor([[ 1.0331, -2.7639],\n",
            "        [-1.1657, -1.7601],\n",
            "        [ 1.1753, -0.5830],\n",
            "        [-1.3325, -0.4675],\n",
            "        [-0.1019, -1.0616],\n",
            "        [ 0.6125, -0.3219],\n",
            "        [ 1.7250, -0.0266],\n",
            "        [ 0.3172, -2.8805]])\n",
            "torch.Size([16]) torch.Size([8, 2])\n"
          ]
        }
      ]
    },
    {
      "cell_type": "markdown",
      "source": [
        "### 만약 tensor에 하나의 값만 존재한다면, item()을 사용하면 숫자값을 얻을 수 있음"
      ],
      "metadata": {
        "id": "_RjYIdm5b1r5"
      }
    },
    {
      "cell_type": "code",
      "source": [
        "x = torch.randn(1)\n",
        "print(x)\n",
        "print(type(x), type(x.item()))\n",
        "print(x.item())"
      ],
      "metadata": {
        "colab": {
          "base_uri": "https://localhost:8080/"
        },
        "id": "ZIryoz6wZfdH",
        "outputId": "492b2d86-3b49-4e0c-912a-70b6724a349f"
      },
      "execution_count": null,
      "outputs": [
        {
          "output_type": "stream",
          "name": "stdout",
          "text": [
            "tensor([-0.2843])\n",
            "<class 'torch.Tensor'> <class 'float'>\n",
            "-0.2842581570148468\n"
          ]
        }
      ]
    },
    {
      "cell_type": "markdown",
      "source": [
        "### 참고사항\n",
        "전치 transposing),인덱싱(indexing), 슬라이싱(slicing), 수학계산, 선형대수, 난수(rnadom number), 등과 같은 100가지 이상의 tensor 연산은 <http://pytorch.org/doc/torch>에서 설명함\n",
        "\n",
        "### numpy 변환 (bridge)\n",
        "torch tensor를 numpy 배열(array)로 변환하거나, 그 반대로 하는 것은 매우 쉬움\n",
        "(cpu)상의 torch tensor와 numpy배열을 저장공간을 공유하기 때문에, 하나를 변경하면 다른 하나도 변경됨\n",
        "- torch tensor를 numpy로 변환하기"
      ],
      "metadata": {
        "id": "jOfd_415cEAA"
      }
    },
    {
      "cell_type": "code",
      "source": [
        "a = torch.ones(5)\n",
        "print(a)"
      ],
      "metadata": {
        "colab": {
          "base_uri": "https://localhost:8080/"
        },
        "id": "XVF4JEqcZffs",
        "outputId": "c8f4deac-f5cc-4665-d636-1cb49f49509a"
      },
      "execution_count": null,
      "outputs": [
        {
          "output_type": "stream",
          "name": "stdout",
          "text": [
            "tensor([1., 1., 1., 1., 1.])\n"
          ]
        }
      ]
    },
    {
      "cell_type": "code",
      "source": [
        "b = a.numpy()\n",
        "print(b)"
      ],
      "metadata": {
        "colab": {
          "base_uri": "https://localhost:8080/"
        },
        "id": "pMwxZK3cZfiW",
        "outputId": "3f6e9161-18d8-414d-fb19-c858997d2923"
      },
      "execution_count": null,
      "outputs": [
        {
          "output_type": "stream",
          "name": "stdout",
          "text": [
            "[1. 1. 1. 1. 1.]\n"
          ]
        }
      ]
    },
    {
      "cell_type": "markdown",
      "source": [
        "### numpy 배열의 값이 어떻게 변하는지 확인하기"
      ],
      "metadata": {
        "id": "nXUpkVzccs6a"
      }
    },
    {
      "cell_type": "code",
      "source": [
        "a.add_(1)\n",
        "print(a)\n",
        "print(b)"
      ],
      "metadata": {
        "colab": {
          "base_uri": "https://localhost:8080/"
        },
        "id": "ZXKJydagZfkr",
        "outputId": "7be3233e-9dac-46bc-ed7d-cad0b3f42910"
      },
      "execution_count": null,
      "outputs": [
        {
          "output_type": "stream",
          "name": "stdout",
          "text": [
            "tensor([2., 2., 2., 2., 2.])\n",
            "[2. 2. 2. 2. 2.]\n"
          ]
        }
      ]
    },
    {
      "cell_type": "code",
      "source": [
        "temp = a.clone()\n",
        "temp_numpy = temp.numpy()\n",
        "\n",
        "a.add_(1)\n",
        "print(a)\n",
        "print(temp_numpy)"
      ],
      "metadata": {
        "colab": {
          "base_uri": "https://localhost:8080/"
        },
        "id": "AfhA-jRvdJ_u",
        "outputId": "88404383-548c-4ebb-ba45-b30daee2e1a5"
      },
      "execution_count": null,
      "outputs": [
        {
          "output_type": "stream",
          "name": "stdout",
          "text": [
            "tensor([3., 3., 3., 3., 3.])\n",
            "[2. 2. 2. 2. 2.]\n"
          ]
        }
      ]
    },
    {
      "cell_type": "markdown",
      "source": [
        "### numpy 배열을 torch tensor로 변환하기\n",
        "numpy 배열을 변경하면 torch tensor의 값도 자동으로 변경되는지 확인하기"
      ],
      "metadata": {
        "id": "YD68VEgGdW1c"
      }
    },
    {
      "cell_type": "code",
      "source": [
        "import numpy as np\n",
        "\n",
        "a = np.ones(5)\n",
        "print(a)\n",
        "\n",
        "b = torch.from_numpy(a) # torch tensor변환\n",
        "np.add(a, 1, out = a) # a에 1을 더하면 b도 변하는 모습\n",
        "print(a)\n",
        "print(b)"
      ],
      "metadata": {
        "colab": {
          "base_uri": "https://localhost:8080/"
        },
        "id": "wZ26HkeHdKB0",
        "outputId": "b7ee4d6d-4a86-4e1d-b2c4-2ac4e4eea422"
      },
      "execution_count": null,
      "outputs": [
        {
          "output_type": "stream",
          "name": "stdout",
          "text": [
            "[1. 1. 1. 1. 1.]\n",
            "[2. 2. 2. 2. 2.]\n",
            "tensor([2., 2., 2., 2., 2.], dtype=torch.float64)\n"
          ]
        }
      ]
    },
    {
      "cell_type": "markdown",
      "source": [
        "### char tensor를 제외한 CPU상 모든 tensor는 numpy로의 변환을 지원하며, 반대변환도 지원함"
      ],
      "metadata": {
        "id": "t-6VrcP8dtaS"
      }
    },
    {
      "cell_type": "markdown",
      "source": [
        "# CUDA tensors\n",
        ".to 메서드를 사용해 tensor를 어떠한 장치로 옮길 수 있음"
      ],
      "metadata": {
        "id": "lwPFsQIHd1wR"
      }
    },
    {
      "cell_type": "code",
      "source": [
        "# 이 코드는 CUDA가 사용가능한 환경에서만 실행 \n",
        "# ''torch.device''를 사용해 tensor를 GPU안팎으로 이동해본다.\n",
        "\n",
        "x = torch.rand(4,4)\n",
        "\n",
        "if torch.cuda.is_available(): # GPU가 이 세션에서 확인 가능한지 검사하는 것 (Trueㅇ리 때 아래 실행)\n",
        "  device = \"cuda:0\" # torch.device(\"cuda:0\") # CUDA 장치 객체(device object)로                ### GPU 0번째로 이동하겠다는 의미\n",
        "  y = torch.ones_like(x, device=device)     # GPU 상에서 직접적으로 tensor를 생성하거나,\n",
        "  print(y)\n",
        "\n",
        "  x = x.to(device)                          # ''.to(\"cuda\")''를 사용하면 됨 # CPU -> cuda 0번째로 이동\n",
        "  z = x + y                                 # z는 x,y가 gpu이므로 자동으로 할당됨\n",
        "  print(z)\n",
        "  print(z.to(\"cpu\", torch.double))         # ''.to''는 dtype도 함께 변경함"
      ],
      "metadata": {
        "colab": {
          "base_uri": "https://localhost:8080/"
        },
        "id": "pB0iM8hFdKF4",
        "outputId": "59e99ce4-366f-48c9-e2db-a3ac18a1b8be"
      },
      "execution_count": null,
      "outputs": [
        {
          "output_type": "stream",
          "name": "stdout",
          "text": [
            "tensor([[1., 1., 1., 1.],\n",
            "        [1., 1., 1., 1.],\n",
            "        [1., 1., 1., 1.],\n",
            "        [1., 1., 1., 1.]], device='cuda:0')\n",
            "tensor([[1.4530, 1.0819, 1.7501, 1.1098],\n",
            "        [1.5322, 1.8935, 1.9127, 1.1958],\n",
            "        [1.0107, 1.7276, 1.0649, 1.6304],\n",
            "        [1.2538, 1.4014, 1.8508, 1.1946]], device='cuda:0')\n",
            "tensor([[1.4530, 1.0819, 1.7501, 1.1098],\n",
            "        [1.5322, 1.8935, 1.9127, 1.1958],\n",
            "        [1.0107, 1.7276, 1.0649, 1.6304],\n",
            "        [1.2538, 1.4014, 1.8508, 1.1946]], dtype=torch.float64)\n"
          ]
        }
      ]
    },
    {
      "cell_type": "code",
      "source": [
        "x = x.cuda()"
      ],
      "metadata": {
        "id": "-hg1Uw3ydKHT"
      },
      "execution_count": null,
      "outputs": []
    },
    {
      "cell_type": "code",
      "source": [],
      "metadata": {
        "id": "kolY9osqgHN4"
      },
      "execution_count": null,
      "outputs": []
    }
  ]
}