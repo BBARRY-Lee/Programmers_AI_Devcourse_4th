{
  "nbformat": 4,
  "nbformat_minor": 0,
  "metadata": {
    "colab": {
      "provenance": []
    },
    "kernelspec": {
      "name": "python3",
      "display_name": "Python 3"
    },
    "language_info": {
      "name": "python"
    }
  },
  "cells": [
    {
      "cell_type": "markdown",
      "source": [
        "http://www.tensorflow.org/guide/tensor"
      ],
      "metadata": {
        "id": "vwya7D3ggZ02"
      }
    },
    {
      "cell_type": "code",
      "source": [
        "import tensorflow as tf\n",
        "print(tf.__version__)"
      ],
      "metadata": {
        "colab": {
          "base_uri": "https://localhost:8080/"
        },
        "id": "JnOFupXggo7v",
        "outputId": "cf9c6381-685b-40a3-84f5-3d027345fb4a"
      },
      "execution_count": null,
      "outputs": [
        {
          "output_type": "stream",
          "name": "stdout",
          "text": [
            "2.9.2\n"
          ]
        }
      ]
    },
    {
      "cell_type": "markdown",
      "source": [
        "# 변수 생성"
      ],
      "metadata": {
        "id": "bQg2MK-Igb5g"
      }
    },
    {
      "cell_type": "code",
      "source": [
        "# 모양이 [1,2,3]이고 값은 0으로 채워진 3차원 텐서가 변수로 생성\n",
        "\n",
        "my_variable = tf.Variable(tf.zeros([1,2,3]))\n",
        "my_variable"
      ],
      "metadata": {
        "colab": {
          "base_uri": "https://localhost:8080/"
        },
        "id": "EF6cJ5m1gdAL",
        "outputId": "e3e9adfd-812c-4467-e4ec-a95f16365472"
      },
      "execution_count": null,
      "outputs": [
        {
          "output_type": "execute_result",
          "data": {
            "text/plain": [
              "<tf.Variable 'Variable:0' shape=(1, 2, 3) dtype=float32, numpy=\n",
              "array([[[0., 0., 0.],\n",
              "        [0., 0., 0.]]], dtype=float32)>"
            ]
          },
          "metadata": {},
          "execution_count": 2
        }
      ]
    },
    {
      "cell_type": "markdown",
      "source": [
        "# 변수의 사용"
      ],
      "metadata": {
        "id": "DlUsBMKLguoX"
      }
    },
    {
      "cell_type": "code",
      "source": [
        "# tensorflow 그래프에서 tf.Variable의 값을 사용하려면 이를 단순히 tf.Tensor로 취급하면 됨\n",
        "\n",
        "v = tf.Variable(0.0)\n",
        "print(v)\n",
        "w = v+1\n",
        "# w는 v값을 기준으로 계산되는 tf.tensor로, 변수가 수식에 사용될 때 변수는 자동으로 tf.tensor로 변환되어 값을 표현함\n",
        "print(w)"
      ],
      "metadata": {
        "colab": {
          "base_uri": "https://localhost:8080/"
        },
        "id": "O23dRcDBgwaF",
        "outputId": "ccd60316-a14f-4487-c720-a06045922200"
      },
      "execution_count": null,
      "outputs": [
        {
          "output_type": "stream",
          "name": "stdout",
          "text": [
            "<tf.Variable 'Variable:0' shape=() dtype=float32, numpy=0.0>\n",
            "tf.Tensor(1.0, shape=(), dtype=float32)\n"
          ]
        }
      ]
    },
    {
      "cell_type": "code",
      "source": [
        "# 값을 변수에 할당하려면 assign, assign_add 메소드와 tf.Variable 클래스에 있는 친구들(friends)를 사용\n",
        "\n",
        "a = tf.Variable(0.0)\n",
        "a.assign_add(1) # 더해서 a에 assing을 한다.\n",
        "a.read_value() # 1.0"
      ],
      "metadata": {
        "colab": {
          "base_uri": "https://localhost:8080/"
        },
        "id": "PYVbdNoYhGOj",
        "outputId": "189f6c1c-192b-4393-bda0-0ec3e5375a15"
      },
      "execution_count": null,
      "outputs": [
        {
          "output_type": "execute_result",
          "data": {
            "text/plain": [
              "<tf.Tensor: shape=(), dtype=float32, numpy=1.0>"
            ]
          },
          "metadata": {},
          "execution_count": 4
        }
      ]
    },
    {
      "cell_type": "markdown",
      "source": [
        "### tf.Tensor 객체의 랭크는 그 차원의 수"
      ],
      "metadata": {
        "id": "TyNrayKYiCJf"
      }
    },
    {
      "cell_type": "markdown",
      "source": [
        "# 랭크 0"
      ],
      "metadata": {
        "id": "blScMrXqhj5D"
      }
    },
    {
      "cell_type": "code",
      "source": [
        "# 랭크 0 = 그 값 자체가 1개씩 있다를 의미함\n",
        "mammal = tf.Variable(\"코끼리\", tf.string)\n",
        "ignition = tf.Variable(451, tf.int16)\n",
        "floating = tf.Variable(3.1459265359, tf.float64)\n",
        "its_complicated = tf.Variable(12.3 - 4.85j, tf.complex64)\n",
        "\n",
        "print(mammal)\n",
        "print(ignition)\n",
        "print(floating)\n",
        "print(its_complicated)"
      ],
      "metadata": {
        "colab": {
          "base_uri": "https://localhost:8080/"
        },
        "id": "v7yA512Vhh01",
        "outputId": "fa8b6ff4-177d-4514-efa6-f0eb65add586"
      },
      "execution_count": null,
      "outputs": [
        {
          "output_type": "stream",
          "name": "stdout",
          "text": [
            "<tf.Variable 'Variable:0' shape=() dtype=string, numpy=b'\\xec\\xbd\\x94\\xeb\\x81\\xbc\\xeb\\xa6\\xac'>\n",
            "<tf.Variable 'Variable:0' shape=() dtype=int32, numpy=451>\n",
            "<tf.Variable 'Variable:0' shape=() dtype=float32, numpy=3.1459265>\n",
            "<tf.Variable 'Variable:0' shape=() dtype=complex128, numpy=(12.3-4.85j)>\n"
          ]
        }
      ]
    },
    {
      "cell_type": "markdown",
      "source": [
        "# 랭크 1 (벡터)"
      ],
      "metadata": {
        "id": "VQ_ECgaUivT-"
      }
    },
    {
      "cell_type": "code",
      "source": [
        "# 리스트처럼 여러 값이 들어간 형태\n",
        "mystr = tf.Variable([\"안녕\"], tf.string)\n",
        "cool_numbers = tf.Variable([3.14159, 2.71828], tf.float32)\n",
        "first_primes = tf.Variable([2, 3, 5, 7, 11], tf.int32)\n",
        "its_very_complicated = tf.Variable([12.3 - 4.85j, 7.5-6.23j], tf.complex64)\n",
        "\n",
        "print(mystr)\n",
        "print(cool_numbers)\n",
        "print(first_primes)\n",
        "print(its_very_complicated)\n",
        "tf.rank(mystr)"
      ],
      "metadata": {
        "colab": {
          "base_uri": "https://localhost:8080/"
        },
        "id": "6Jtym2scigu-",
        "outputId": "08ab06ca-cbeb-4bde-be28-2122508fe9f1"
      },
      "execution_count": null,
      "outputs": [
        {
          "output_type": "stream",
          "name": "stdout",
          "text": [
            "<tf.Variable 'Variable:0' shape=(1,) dtype=string, numpy=array([b'\\xec\\x95\\x88\\xeb\\x85\\x95'], dtype=object)>\n",
            "<tf.Variable 'Variable:0' shape=(2,) dtype=float32, numpy=array([3.14159, 2.71828], dtype=float32)>\n",
            "<tf.Variable 'Variable:0' shape=(5,) dtype=int32, numpy=array([ 2,  3,  5,  7, 11], dtype=int32)>\n",
            "<tf.Variable 'Variable:0' shape=(2,) dtype=complex128, numpy=array([12.3-4.85j,  7.5-6.23j])>\n"
          ]
        },
        {
          "output_type": "execute_result",
          "data": {
            "text/plain": [
              "<tf.Tensor: shape=(), dtype=int32, numpy=1>"
            ]
          },
          "metadata": {},
          "execution_count": 7
        }
      ]
    },
    {
      "cell_type": "markdown",
      "source": [
        "# 고차원 랭크 (랭크2, ㄹ애크 2 tf.Tensor 객체는 최소 한 개 이상의 열과 행으로 구성됨)"
      ],
      "metadata": {
        "id": "ChfId6E1jWVZ"
      }
    },
    {
      "cell_type": "code",
      "source": [
        "mymat = tf.Variable([[7], [11]], tf.int16)\n",
        "myxor = tf.Variable([[False, True], [True, False]], tf.bool)\n",
        "linear_squares = tf.Variable([[4, 9], [16, 25]], tf.int32)\n",
        "squarish_squares = tf.Variable([[4, 9], [16, 25]], tf.int32)\n",
        "\n",
        "# tf.rank : 객체의 랭크 구하기\n",
        "rank_of_squares = tf.rank(squarish_squares)\n",
        "mymatC = tf.Variable([[7], [11]], tf.int32)\n",
        "\n",
        "print(mymat)\n",
        "print(rank_of_squares)"
      ],
      "metadata": {
        "colab": {
          "base_uri": "https://localhost:8080/"
        },
        "id": "XXgZsQucjT-q",
        "outputId": "6e0e32c2-1137-4c34-d24a-ad87b4efbbbb"
      },
      "execution_count": null,
      "outputs": [
        {
          "output_type": "stream",
          "name": "stdout",
          "text": [
            "<tf.Variable 'Variable:0' shape=(2, 1) dtype=int32, numpy=\n",
            "array([[ 7],\n",
            "       [11]], dtype=int32)>\n",
            "tf.Tensor(2, shape=(), dtype=int32)\n"
          ]
        }
      ]
    },
    {
      "cell_type": "code",
      "source": [
        "my_image = tf.zeros([10, 299, 200, 3]) # 배치 \b* 높이 * 너비 * 색상\n",
        "my_image\n",
        "# H *W = 299 * 299"
      ],
      "metadata": {
        "colab": {
          "base_uri": "https://localhost:8080/"
        },
        "id": "TBJn92RXkkEb",
        "outputId": "e1f91da3-99c4-4827-9777-4ebd1bd54d7b"
      },
      "execution_count": null,
      "outputs": [
        {
          "output_type": "execute_result",
          "data": {
            "text/plain": [
              "<tf.Tensor: shape=(10, 299, 200, 3), dtype=float32, numpy=\n",
              "array([[[[0., 0., 0.],\n",
              "         [0., 0., 0.],\n",
              "         [0., 0., 0.],\n",
              "         ...,\n",
              "         [0., 0., 0.],\n",
              "         [0., 0., 0.],\n",
              "         [0., 0., 0.]],\n",
              "\n",
              "        [[0., 0., 0.],\n",
              "         [0., 0., 0.],\n",
              "         [0., 0., 0.],\n",
              "         ...,\n",
              "         [0., 0., 0.],\n",
              "         [0., 0., 0.],\n",
              "         [0., 0., 0.]],\n",
              "\n",
              "        [[0., 0., 0.],\n",
              "         [0., 0., 0.],\n",
              "         [0., 0., 0.],\n",
              "         ...,\n",
              "         [0., 0., 0.],\n",
              "         [0., 0., 0.],\n",
              "         [0., 0., 0.]],\n",
              "\n",
              "        ...,\n",
              "\n",
              "        [[0., 0., 0.],\n",
              "         [0., 0., 0.],\n",
              "         [0., 0., 0.],\n",
              "         ...,\n",
              "         [0., 0., 0.],\n",
              "         [0., 0., 0.],\n",
              "         [0., 0., 0.]],\n",
              "\n",
              "        [[0., 0., 0.],\n",
              "         [0., 0., 0.],\n",
              "         [0., 0., 0.],\n",
              "         ...,\n",
              "         [0., 0., 0.],\n",
              "         [0., 0., 0.],\n",
              "         [0., 0., 0.]],\n",
              "\n",
              "        [[0., 0., 0.],\n",
              "         [0., 0., 0.],\n",
              "         [0., 0., 0.],\n",
              "         ...,\n",
              "         [0., 0., 0.],\n",
              "         [0., 0., 0.],\n",
              "         [0., 0., 0.]]],\n",
              "\n",
              "\n",
              "       [[[0., 0., 0.],\n",
              "         [0., 0., 0.],\n",
              "         [0., 0., 0.],\n",
              "         ...,\n",
              "         [0., 0., 0.],\n",
              "         [0., 0., 0.],\n",
              "         [0., 0., 0.]],\n",
              "\n",
              "        [[0., 0., 0.],\n",
              "         [0., 0., 0.],\n",
              "         [0., 0., 0.],\n",
              "         ...,\n",
              "         [0., 0., 0.],\n",
              "         [0., 0., 0.],\n",
              "         [0., 0., 0.]],\n",
              "\n",
              "        [[0., 0., 0.],\n",
              "         [0., 0., 0.],\n",
              "         [0., 0., 0.],\n",
              "         ...,\n",
              "         [0., 0., 0.],\n",
              "         [0., 0., 0.],\n",
              "         [0., 0., 0.]],\n",
              "\n",
              "        ...,\n",
              "\n",
              "        [[0., 0., 0.],\n",
              "         [0., 0., 0.],\n",
              "         [0., 0., 0.],\n",
              "         ...,\n",
              "         [0., 0., 0.],\n",
              "         [0., 0., 0.],\n",
              "         [0., 0., 0.]],\n",
              "\n",
              "        [[0., 0., 0.],\n",
              "         [0., 0., 0.],\n",
              "         [0., 0., 0.],\n",
              "         ...,\n",
              "         [0., 0., 0.],\n",
              "         [0., 0., 0.],\n",
              "         [0., 0., 0.]],\n",
              "\n",
              "        [[0., 0., 0.],\n",
              "         [0., 0., 0.],\n",
              "         [0., 0., 0.],\n",
              "         ...,\n",
              "         [0., 0., 0.],\n",
              "         [0., 0., 0.],\n",
              "         [0., 0., 0.]]],\n",
              "\n",
              "\n",
              "       [[[0., 0., 0.],\n",
              "         [0., 0., 0.],\n",
              "         [0., 0., 0.],\n",
              "         ...,\n",
              "         [0., 0., 0.],\n",
              "         [0., 0., 0.],\n",
              "         [0., 0., 0.]],\n",
              "\n",
              "        [[0., 0., 0.],\n",
              "         [0., 0., 0.],\n",
              "         [0., 0., 0.],\n",
              "         ...,\n",
              "         [0., 0., 0.],\n",
              "         [0., 0., 0.],\n",
              "         [0., 0., 0.]],\n",
              "\n",
              "        [[0., 0., 0.],\n",
              "         [0., 0., 0.],\n",
              "         [0., 0., 0.],\n",
              "         ...,\n",
              "         [0., 0., 0.],\n",
              "         [0., 0., 0.],\n",
              "         [0., 0., 0.]],\n",
              "\n",
              "        ...,\n",
              "\n",
              "        [[0., 0., 0.],\n",
              "         [0., 0., 0.],\n",
              "         [0., 0., 0.],\n",
              "         ...,\n",
              "         [0., 0., 0.],\n",
              "         [0., 0., 0.],\n",
              "         [0., 0., 0.]],\n",
              "\n",
              "        [[0., 0., 0.],\n",
              "         [0., 0., 0.],\n",
              "         [0., 0., 0.],\n",
              "         ...,\n",
              "         [0., 0., 0.],\n",
              "         [0., 0., 0.],\n",
              "         [0., 0., 0.]],\n",
              "\n",
              "        [[0., 0., 0.],\n",
              "         [0., 0., 0.],\n",
              "         [0., 0., 0.],\n",
              "         ...,\n",
              "         [0., 0., 0.],\n",
              "         [0., 0., 0.],\n",
              "         [0., 0., 0.]]],\n",
              "\n",
              "\n",
              "       ...,\n",
              "\n",
              "\n",
              "       [[[0., 0., 0.],\n",
              "         [0., 0., 0.],\n",
              "         [0., 0., 0.],\n",
              "         ...,\n",
              "         [0., 0., 0.],\n",
              "         [0., 0., 0.],\n",
              "         [0., 0., 0.]],\n",
              "\n",
              "        [[0., 0., 0.],\n",
              "         [0., 0., 0.],\n",
              "         [0., 0., 0.],\n",
              "         ...,\n",
              "         [0., 0., 0.],\n",
              "         [0., 0., 0.],\n",
              "         [0., 0., 0.]],\n",
              "\n",
              "        [[0., 0., 0.],\n",
              "         [0., 0., 0.],\n",
              "         [0., 0., 0.],\n",
              "         ...,\n",
              "         [0., 0., 0.],\n",
              "         [0., 0., 0.],\n",
              "         [0., 0., 0.]],\n",
              "\n",
              "        ...,\n",
              "\n",
              "        [[0., 0., 0.],\n",
              "         [0., 0., 0.],\n",
              "         [0., 0., 0.],\n",
              "         ...,\n",
              "         [0., 0., 0.],\n",
              "         [0., 0., 0.],\n",
              "         [0., 0., 0.]],\n",
              "\n",
              "        [[0., 0., 0.],\n",
              "         [0., 0., 0.],\n",
              "         [0., 0., 0.],\n",
              "         ...,\n",
              "         [0., 0., 0.],\n",
              "         [0., 0., 0.],\n",
              "         [0., 0., 0.]],\n",
              "\n",
              "        [[0., 0., 0.],\n",
              "         [0., 0., 0.],\n",
              "         [0., 0., 0.],\n",
              "         ...,\n",
              "         [0., 0., 0.],\n",
              "         [0., 0., 0.],\n",
              "         [0., 0., 0.]]],\n",
              "\n",
              "\n",
              "       [[[0., 0., 0.],\n",
              "         [0., 0., 0.],\n",
              "         [0., 0., 0.],\n",
              "         ...,\n",
              "         [0., 0., 0.],\n",
              "         [0., 0., 0.],\n",
              "         [0., 0., 0.]],\n",
              "\n",
              "        [[0., 0., 0.],\n",
              "         [0., 0., 0.],\n",
              "         [0., 0., 0.],\n",
              "         ...,\n",
              "         [0., 0., 0.],\n",
              "         [0., 0., 0.],\n",
              "         [0., 0., 0.]],\n",
              "\n",
              "        [[0., 0., 0.],\n",
              "         [0., 0., 0.],\n",
              "         [0., 0., 0.],\n",
              "         ...,\n",
              "         [0., 0., 0.],\n",
              "         [0., 0., 0.],\n",
              "         [0., 0., 0.]],\n",
              "\n",
              "        ...,\n",
              "\n",
              "        [[0., 0., 0.],\n",
              "         [0., 0., 0.],\n",
              "         [0., 0., 0.],\n",
              "         ...,\n",
              "         [0., 0., 0.],\n",
              "         [0., 0., 0.],\n",
              "         [0., 0., 0.]],\n",
              "\n",
              "        [[0., 0., 0.],\n",
              "         [0., 0., 0.],\n",
              "         [0., 0., 0.],\n",
              "         ...,\n",
              "         [0., 0., 0.],\n",
              "         [0., 0., 0.],\n",
              "         [0., 0., 0.]],\n",
              "\n",
              "        [[0., 0., 0.],\n",
              "         [0., 0., 0.],\n",
              "         [0., 0., 0.],\n",
              "         ...,\n",
              "         [0., 0., 0.],\n",
              "         [0., 0., 0.],\n",
              "         [0., 0., 0.]]],\n",
              "\n",
              "\n",
              "       [[[0., 0., 0.],\n",
              "         [0., 0., 0.],\n",
              "         [0., 0., 0.],\n",
              "         ...,\n",
              "         [0., 0., 0.],\n",
              "         [0., 0., 0.],\n",
              "         [0., 0., 0.]],\n",
              "\n",
              "        [[0., 0., 0.],\n",
              "         [0., 0., 0.],\n",
              "         [0., 0., 0.],\n",
              "         ...,\n",
              "         [0., 0., 0.],\n",
              "         [0., 0., 0.],\n",
              "         [0., 0., 0.]],\n",
              "\n",
              "        [[0., 0., 0.],\n",
              "         [0., 0., 0.],\n",
              "         [0., 0., 0.],\n",
              "         ...,\n",
              "         [0., 0., 0.],\n",
              "         [0., 0., 0.],\n",
              "         [0., 0., 0.]],\n",
              "\n",
              "        ...,\n",
              "\n",
              "        [[0., 0., 0.],\n",
              "         [0., 0., 0.],\n",
              "         [0., 0., 0.],\n",
              "         ...,\n",
              "         [0., 0., 0.],\n",
              "         [0., 0., 0.],\n",
              "         [0., 0., 0.]],\n",
              "\n",
              "        [[0., 0., 0.],\n",
              "         [0., 0., 0.],\n",
              "         [0., 0., 0.],\n",
              "         ...,\n",
              "         [0., 0., 0.],\n",
              "         [0., 0., 0.],\n",
              "         [0., 0., 0.]],\n",
              "\n",
              "        [[0., 0., 0.],\n",
              "         [0., 0., 0.],\n",
              "         [0., 0., 0.],\n",
              "         ...,\n",
              "         [0., 0., 0.],\n",
              "         [0., 0., 0.],\n",
              "         [0., 0., 0.]]]], dtype=float32)>"
            ]
          },
          "metadata": {},
          "execution_count": 11
        }
      ]
    },
    {
      "cell_type": "markdown",
      "source": [
        "# tf.Tensor 객체 랭크 구하기"
      ],
      "metadata": {
        "id": "B1d3K36vk9dQ"
      }
    },
    {
      "cell_type": "code",
      "source": [
        "r = tf.rank(my_image)\n",
        "print(r) # r = 4"
      ],
      "metadata": {
        "colab": {
          "base_uri": "https://localhost:8080/"
        },
        "id": "cei43pQuk7j5",
        "outputId": "c16b13eb-aeb9-4d81-e481-125ec19fbde1"
      },
      "execution_count": null,
      "outputs": [
        {
          "output_type": "stream",
          "name": "stdout",
          "text": [
            "tf.Tensor(4, shape=(), dtype=int32)\n"
          ]
        }
      ]
    },
    {
      "cell_type": "markdown",
      "source": [
        "# tf.Tensor 원소 참조하기"
      ],
      "metadata": {
        "id": "dx2qErkGlMUA"
      }
    },
    {
      "cell_type": "code",
      "source": [
        "my_vector = tf.Variable([1,2,3,4], tf.int32)\n",
        "print(tf.rank(my_vector))\n",
        "\n",
        "my_scalar = my_vector[2]\n",
        "print(my_scalar)"
      ],
      "metadata": {
        "colab": {
          "base_uri": "https://localhost:8080/"
        },
        "id": "cptRWmIzleQ2",
        "outputId": "8eb1631c-ac20-420f-900d-b084abade850"
      },
      "execution_count": null,
      "outputs": [
        {
          "output_type": "stream",
          "name": "stdout",
          "text": [
            "tf.Tensor(1, shape=(), dtype=int32)\n",
            "tf.Tensor(3, shape=(), dtype=int32)\n"
          ]
        }
      ]
    },
    {
      "cell_type": "code",
      "source": [
        "print(squarish_squares)\n",
        "my_scalar =squarish_squares[1,0] # 2행 1열의 값\n",
        "print(my_scalar)"
      ],
      "metadata": {
        "colab": {
          "base_uri": "https://localhost:8080/"
        },
        "id": "sy9gotRMlxR_",
        "outputId": "a4105e82-2301-49cd-d2d9-00c33e075340"
      },
      "execution_count": null,
      "outputs": [
        {
          "output_type": "stream",
          "name": "stdout",
          "text": [
            "<tf.Variable 'Variable:0' shape=(2, 2) dtype=int32, numpy=\n",
            "array([[ 4,  9],\n",
            "       [16, 25]], dtype=int32)>\n",
            "tf.Tensor(16, shape=(), dtype=int32)\n"
          ]
        }
      ]
    },
    {
      "cell_type": "code",
      "source": [
        "my_row_vector = squarish_squares[1]\n",
        "my_col_vector = squarish_squares[:, 1]\n",
        "print(squarish_squares)\n",
        "print(my_row_vector)\n",
        "print(my_col_vector)"
      ],
      "metadata": {
        "colab": {
          "base_uri": "https://localhost:8080/"
        },
        "id": "fAo9PVdylxcJ",
        "outputId": "1b490515-e8e3-4e5e-bfd0-43ff82b9c440"
      },
      "execution_count": null,
      "outputs": [
        {
          "output_type": "stream",
          "name": "stdout",
          "text": [
            "<tf.Variable 'Variable:0' shape=(2, 2) dtype=int32, numpy=\n",
            "array([[ 4,  9],\n",
            "       [16, 25]], dtype=int32)>\n",
            "tf.Tensor([16 25], shape=(2,), dtype=int32)\n",
            "tf.Tensor([ 9 25], shape=(2,), dtype=int32)\n"
          ]
        }
      ]
    },
    {
      "cell_type": "markdown",
      "source": [
        "# tf.Tensor 객체 형태 얻기"
      ],
      "metadata": {
        "id": "9fa4Zr6WlAxp"
      }
    },
    {
      "cell_type": "code",
      "source": [
        "zeros = tf.zeros(squarish_squares.shape) # squarish_squares.shape으로 새로운 텐서 생성\n",
        "zeros"
      ],
      "metadata": {
        "colab": {
          "base_uri": "https://localhost:8080/"
        },
        "id": "q-7AHR9ulwTs",
        "outputId": "7e551ca1-9a08-41ed-ca12-a8009bedfc37"
      },
      "execution_count": null,
      "outputs": [
        {
          "output_type": "execute_result",
          "data": {
            "text/plain": [
              "<tf.Tensor: shape=(2, 2), dtype=float32, numpy=\n",
              "array([[0., 0.],\n",
              "       [0., 0.]], dtype=float32)>"
            ]
          },
          "metadata": {},
          "execution_count": 17
        }
      ]
    },
    {
      "cell_type": "markdown",
      "source": [
        "# tf.Tensor 형태변경 (pytorch view와 비슷한 기능)"
      ],
      "metadata": {
        "id": "4MpYRom-lA2W"
      }
    },
    {
      "cell_type": "code",
      "source": [
        "# 60개의 원소 개수\n",
        "rank_three_tensor = tf.ones([3,4,5])\n",
        "print(rank_three_tensor.shape)\n",
        "matrix = tf.reshape(rank_three_tensor, [6,10]) # 기존 내용을 6x10 행렬로 형태변경\n",
        "\n",
        "print(matrix.shape)\n",
        "matrixB = tf.reshape(matrix, [3, -1]) # 기존 내용을 3x20 행렬로 형태변경, -1은 차원크기를 계산하여 자동으로 결정하라는 의미\n",
        "\n",
        "print(matrixB.shape)\n",
        "matrixAlt = tf.reshape(matrixB, [4,3,-1]) # 기존 내용을 4x3x5 텐서로 형태변경\n",
        "\n",
        "print(matrixAlt.shape)\n",
        "# 형태가 변경된 텐서의 원소 개수는 원래 텐서의 원소 개수와 같음\n",
        "# 그러므로, 다음은 원소 개수를 유지하면서 마지막 차원에 사용가능한 수가 없기 때문에 에러를 발생함\n",
        "\n",
        " yet_another = tf.reshape(matrixAlt, [13,2, -1]) # 에러 발생"
      ],
      "metadata": {
        "colab": {
          "base_uri": "https://localhost:8080/"
        },
        "id": "sl5JLIDFlfTn",
        "outputId": "75ae332d-b354-41d6-82e0-6f482e9c5798"
      },
      "execution_count": null,
      "outputs": [
        {
          "output_type": "stream",
          "name": "stdout",
          "text": [
            "(3, 4, 5)\n",
            "(6, 10)\n",
            "(3, 20)\n",
            "(4, 3, 5)\n"
          ]
        }
      ]
    },
    {
      "cell_type": "markdown",
      "source": [
        "# 자료형"
      ],
      "metadata": {
        "id": "2L8pTzNklJWA"
      }
    },
    {
      "cell_type": "code",
      "source": [
        "# 정수형 텐서를 실수형으로 변환\n",
        "\n",
        "a = tf.constant([1,2,3])\n",
        "print(a)\n",
        "\n",
        "float_tensor = tf.cast(tf.constant([1,2,3]), dtype = tf.float32)\n",
        "float_tensor"
      ],
      "metadata": {
        "colab": {
          "base_uri": "https://localhost:8080/"
        },
        "id": "S-FmAexvlIoO",
        "outputId": "4ae89233-6d65-483c-f206-50a52e868e0d"
      },
      "execution_count": null,
      "outputs": [
        {
          "output_type": "stream",
          "name": "stdout",
          "text": [
            "tf.Tensor([1 2 3], shape=(3,), dtype=int32)\n"
          ]
        },
        {
          "output_type": "execute_result",
          "data": {
            "text/plain": [
              "<tf.Tensor: shape=(3,), dtype=float32, numpy=array([1., 2., 3.], dtype=float32)>"
            ]
          },
          "metadata": {},
          "execution_count": 24
        }
      ]
    },
    {
      "cell_type": "code",
      "source": [],
      "metadata": {
        "id": "xW9bTJ6ApNGe"
      },
      "execution_count": null,
      "outputs": []
    }
  ]
}